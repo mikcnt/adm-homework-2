{
 "cells": [
  {
   "cell_type": "markdown",
   "metadata": {},
   "source": [
    "# Environment setup"
   ]
  },
  {
   "cell_type": "markdown",
   "metadata": {},
   "source": [
    "## Import libraries"
   ]
  },
  {
   "cell_type": "code",
   "execution_count": 1,
   "metadata": {},
   "outputs": [],
   "source": [
    "import pandas as pd\n",
    "import numpy as np\n",
    "import matplotlib.pyplot as plt\n",
    "import squarify"
   ]
  },
  {
   "cell_type": "markdown",
   "metadata": {},
   "source": [
    "## Load the data and parse dates"
   ]
  },
  {
   "cell_type": "code",
   "execution_count": 2,
   "metadata": {},
   "outputs": [],
   "source": [
    "df_Nov = pd.read_csv(\"2019-Nov.csv\", parse_dates = [\"event_time\"])\n",
    "df_Oct = pd.read_csv(\"2019-Oct.csv\", parse_dates = [\"event_time\"])"
   ]
  },
  {
   "cell_type": "markdown",
   "metadata": {},
   "source": [
    "# Preliminary analysis of the data\n",
    "Before we dive into the actual homework, let's take a brief look at the data. This could be beneficial to learn something useful, to get an overview of the data we're about to work with."
   ]
  },
  {
   "cell_type": "markdown",
   "metadata": {},
   "source": [
    "## Dataframes head"
   ]
  },
  {
   "cell_type": "code",
   "execution_count": 1,
   "metadata": {},
   "outputs": [
    {
     "ename": "NameError",
     "evalue": "name 'df_Oct' is not defined",
     "output_type": "error",
     "traceback": [
      "\u001b[0;31m---------------------------------------------------------------------------\u001b[0m",
      "\u001b[0;31mNameError\u001b[0m                                 Traceback (most recent call last)",
      "\u001b[0;32m<ipython-input-1-03ad4d6e0b4c>\u001b[0m in \u001b[0;36m<module>\u001b[0;34m\u001b[0m\n\u001b[1;32m      1\u001b[0m \u001b[0;31m# Checking the first 10 rows of October dataframe\u001b[0m\u001b[0;34m\u001b[0m\u001b[0;34m\u001b[0m\u001b[0;34m\u001b[0m\u001b[0m\n\u001b[0;32m----> 2\u001b[0;31m \u001b[0mdf_Oct\u001b[0m\u001b[0;34m.\u001b[0m\u001b[0mhead\u001b[0m\u001b[0;34m(\u001b[0m\u001b[0;34m)\u001b[0m\u001b[0;34m\u001b[0m\u001b[0;34m\u001b[0m\u001b[0m\n\u001b[0m",
      "\u001b[0;31mNameError\u001b[0m: name 'df_Oct' is not defined"
     ]
    }
   ],
   "source": [
    "# Checking the first 5 rows of the October dataframe\n",
    "df_Oct.head()"
   ]
  },
  {
   "cell_type": "code",
   "execution_count": 2,
   "metadata": {},
   "outputs": [
    {
     "ename": "NameError",
     "evalue": "name 'df_Nov' is not defined",
     "output_type": "error",
     "traceback": [
      "\u001b[0;31m---------------------------------------------------------------------------\u001b[0m",
      "\u001b[0;31mNameError\u001b[0m                                 Traceback (most recent call last)",
      "\u001b[0;32m<ipython-input-2-ea8789272232>\u001b[0m in \u001b[0;36m<module>\u001b[0;34m\u001b[0m\n\u001b[1;32m      1\u001b[0m \u001b[0;31m# Checking the first 5 rows of the November dataframe\u001b[0m\u001b[0;34m\u001b[0m\u001b[0;34m\u001b[0m\u001b[0;34m\u001b[0m\u001b[0m\n\u001b[0;32m----> 2\u001b[0;31m \u001b[0mdf_Nov\u001b[0m\u001b[0;34m.\u001b[0m\u001b[0mhead\u001b[0m\u001b[0;34m(\u001b[0m\u001b[0;34m)\u001b[0m\u001b[0;34m\u001b[0m\u001b[0;34m\u001b[0m\u001b[0m\n\u001b[0m",
      "\u001b[0;31mNameError\u001b[0m: name 'df_Nov' is not defined"
     ]
    }
   ],
   "source": [
    "# Checking the first 5 rows of the November dataframe\n",
    "df_Nov.head()"
   ]
  },
  {
   "cell_type": "markdown",
   "metadata": {},
   "source": [
    "## General statistics\n",
    "Let's review our dataframe using the methods `info()` and `describe()`."
   ]
  },
  {
   "cell_type": "code",
   "execution_count": 5,
   "metadata": {},
   "outputs": [
    {
     "name": "stdout",
     "output_type": "stream",
     "text": [
      "<class 'pandas.core.frame.DataFrame'>\n",
      "RangeIndex: 4102283 entries, 0 to 4102282\n",
      "Data columns (total 9 columns):\n",
      " #   Column         Dtype              \n",
      "---  ------         -----              \n",
      " 0   event_time     datetime64[ns, UTC]\n",
      " 1   event_type     object             \n",
      " 2   product_id     int64              \n",
      " 3   category_id    int64              \n",
      " 4   category_code  object             \n",
      " 5   brand          object             \n",
      " 6   price          float64            \n",
      " 7   user_id        int64              \n",
      " 8   user_session   object             \n",
      "dtypes: datetime64[ns, UTC](1), float64(1), int64(3), object(4)\n",
      "memory usage: 281.7+ MB\n"
     ]
    }
   ],
   "source": [
    "df_Oct.info()"
   ]
  },
  {
   "cell_type": "code",
   "execution_count": 6,
   "metadata": {},
   "outputs": [
    {
     "name": "stdout",
     "output_type": "stream",
     "text": [
      "<class 'pandas.core.frame.DataFrame'>\n",
      "RangeIndex: 4635837 entries, 0 to 4635836\n",
      "Data columns (total 9 columns):\n",
      " #   Column         Dtype              \n",
      "---  ------         -----              \n",
      " 0   event_time     datetime64[ns, UTC]\n",
      " 1   event_type     object             \n",
      " 2   product_id     int64              \n",
      " 3   category_id    int64              \n",
      " 4   category_code  object             \n",
      " 5   brand          object             \n",
      " 6   price          float64            \n",
      " 7   user_id        int64              \n",
      " 8   user_session   object             \n",
      "dtypes: datetime64[ns, UTC](1), float64(1), int64(3), object(4)\n",
      "memory usage: 318.3+ MB\n"
     ]
    }
   ],
   "source": [
    "df_Nov.info()"
   ]
  },
  {
   "cell_type": "code",
   "execution_count": 7,
   "metadata": {},
   "outputs": [
    {
     "data": {
      "text/html": [
       "<div>\n",
       "<style scoped>\n",
       "    .dataframe tbody tr th:only-of-type {\n",
       "        vertical-align: middle;\n",
       "    }\n",
       "\n",
       "    .dataframe tbody tr th {\n",
       "        vertical-align: top;\n",
       "    }\n",
       "\n",
       "    .dataframe thead th {\n",
       "        text-align: right;\n",
       "    }\n",
       "</style>\n",
       "<table border=\"1\" class=\"dataframe\">\n",
       "  <thead>\n",
       "    <tr style=\"text-align: right;\">\n",
       "      <th></th>\n",
       "      <th>product_id</th>\n",
       "      <th>category_id</th>\n",
       "      <th>price</th>\n",
       "      <th>user_id</th>\n",
       "    </tr>\n",
       "  </thead>\n",
       "  <tbody>\n",
       "    <tr>\n",
       "      <th>count</th>\n",
       "      <td>4.102283e+06</td>\n",
       "      <td>4.102283e+06</td>\n",
       "      <td>4.102283e+06</td>\n",
       "      <td>4.102283e+06</td>\n",
       "    </tr>\n",
       "    <tr>\n",
       "      <th>mean</th>\n",
       "      <td>5.468464e+06</td>\n",
       "      <td>1.545652e+18</td>\n",
       "      <td>8.534920e+00</td>\n",
       "      <td>5.013416e+08</td>\n",
       "    </tr>\n",
       "    <tr>\n",
       "      <th>std</th>\n",
       "      <td>1.321863e+06</td>\n",
       "      <td>1.563666e+17</td>\n",
       "      <td>1.913315e+01</td>\n",
       "      <td>8.171257e+07</td>\n",
       "    </tr>\n",
       "    <tr>\n",
       "      <th>min</th>\n",
       "      <td>3.752000e+03</td>\n",
       "      <td>1.487580e+18</td>\n",
       "      <td>-7.937000e+01</td>\n",
       "      <td>4.103071e+06</td>\n",
       "    </tr>\n",
       "    <tr>\n",
       "      <th>25%</th>\n",
       "      <td>5.723489e+06</td>\n",
       "      <td>1.487580e+18</td>\n",
       "      <td>2.140000e+00</td>\n",
       "      <td>4.692921e+08</td>\n",
       "    </tr>\n",
       "    <tr>\n",
       "      <th>50%</th>\n",
       "      <td>5.809115e+06</td>\n",
       "      <td>1.487580e+18</td>\n",
       "      <td>4.110000e+00</td>\n",
       "      <td>5.389695e+08</td>\n",
       "    </tr>\n",
       "    <tr>\n",
       "      <th>75%</th>\n",
       "      <td>5.850322e+06</td>\n",
       "      <td>1.487580e+18</td>\n",
       "      <td>7.140000e+00</td>\n",
       "      <td>5.575029e+08</td>\n",
       "    </tr>\n",
       "    <tr>\n",
       "      <th>max</th>\n",
       "      <td>5.900470e+06</td>\n",
       "      <td>2.195085e+18</td>\n",
       "      <td>3.076000e+02</td>\n",
       "      <td>5.662808e+08</td>\n",
       "    </tr>\n",
       "  </tbody>\n",
       "</table>\n",
       "</div>"
      ],
      "text/plain": [
       "         product_id   category_id         price       user_id\n",
       "count  4.102283e+06  4.102283e+06  4.102283e+06  4.102283e+06\n",
       "mean   5.468464e+06  1.545652e+18  8.534920e+00  5.013416e+08\n",
       "std    1.321863e+06  1.563666e+17  1.913315e+01  8.171257e+07\n",
       "min    3.752000e+03  1.487580e+18 -7.937000e+01  4.103071e+06\n",
       "25%    5.723489e+06  1.487580e+18  2.140000e+00  4.692921e+08\n",
       "50%    5.809115e+06  1.487580e+18  4.110000e+00  5.389695e+08\n",
       "75%    5.850322e+06  1.487580e+18  7.140000e+00  5.575029e+08\n",
       "max    5.900470e+06  2.195085e+18  3.076000e+02  5.662808e+08"
      ]
     },
     "execution_count": 7,
     "metadata": {},
     "output_type": "execute_result"
    }
   ],
   "source": [
    "df_Oct.describe()"
   ]
  },
  {
   "cell_type": "code",
   "execution_count": 8,
   "metadata": {},
   "outputs": [
    {
     "data": {
      "text/html": [
       "<div>\n",
       "<style scoped>\n",
       "    .dataframe tbody tr th:only-of-type {\n",
       "        vertical-align: middle;\n",
       "    }\n",
       "\n",
       "    .dataframe tbody tr th {\n",
       "        vertical-align: top;\n",
       "    }\n",
       "\n",
       "    .dataframe thead th {\n",
       "        text-align: right;\n",
       "    }\n",
       "</style>\n",
       "<table border=\"1\" class=\"dataframe\">\n",
       "  <thead>\n",
       "    <tr style=\"text-align: right;\">\n",
       "      <th></th>\n",
       "      <th>product_id</th>\n",
       "      <th>category_id</th>\n",
       "      <th>price</th>\n",
       "      <th>user_id</th>\n",
       "    </tr>\n",
       "  </thead>\n",
       "  <tbody>\n",
       "    <tr>\n",
       "      <th>count</th>\n",
       "      <td>4.635837e+06</td>\n",
       "      <td>4.635837e+06</td>\n",
       "      <td>4.635837e+06</td>\n",
       "      <td>4.635837e+06</td>\n",
       "    </tr>\n",
       "    <tr>\n",
       "      <th>mean</th>\n",
       "      <td>5.481406e+06</td>\n",
       "      <td>1.550049e+18</td>\n",
       "      <td>8.120701e+00</td>\n",
       "      <td>5.068070e+08</td>\n",
       "    </tr>\n",
       "    <tr>\n",
       "      <th>std</th>\n",
       "      <td>1.305582e+06</td>\n",
       "      <td>1.642371e+17</td>\n",
       "      <td>1.879197e+01</td>\n",
       "      <td>8.504375e+07</td>\n",
       "    </tr>\n",
       "    <tr>\n",
       "      <th>min</th>\n",
       "      <td>3.752000e+03</td>\n",
       "      <td>1.487580e+18</td>\n",
       "      <td>-7.937000e+01</td>\n",
       "      <td>1.120748e+06</td>\n",
       "    </tr>\n",
       "    <tr>\n",
       "      <th>25%</th>\n",
       "      <td>5.723529e+06</td>\n",
       "      <td>1.487580e+18</td>\n",
       "      <td>1.940000e+00</td>\n",
       "      <td>4.698573e+08</td>\n",
       "    </tr>\n",
       "    <tr>\n",
       "      <th>50%</th>\n",
       "      <td>5.810145e+06</td>\n",
       "      <td>1.487580e+18</td>\n",
       "      <td>3.970000e+00</td>\n",
       "      <td>5.421750e+08</td>\n",
       "    </tr>\n",
       "    <tr>\n",
       "      <th>75%</th>\n",
       "      <td>5.856186e+06</td>\n",
       "      <td>1.487580e+18</td>\n",
       "      <td>6.350000e+00</td>\n",
       "      <td>5.680491e+08</td>\n",
       "    </tr>\n",
       "    <tr>\n",
       "      <th>max</th>\n",
       "      <td>5.909246e+06</td>\n",
       "      <td>2.195085e+18</td>\n",
       "      <td>3.277800e+02</td>\n",
       "      <td>5.799699e+08</td>\n",
       "    </tr>\n",
       "  </tbody>\n",
       "</table>\n",
       "</div>"
      ],
      "text/plain": [
       "         product_id   category_id         price       user_id\n",
       "count  4.635837e+06  4.635837e+06  4.635837e+06  4.635837e+06\n",
       "mean   5.481406e+06  1.550049e+18  8.120701e+00  5.068070e+08\n",
       "std    1.305582e+06  1.642371e+17  1.879197e+01  8.504375e+07\n",
       "min    3.752000e+03  1.487580e+18 -7.937000e+01  1.120748e+06\n",
       "25%    5.723529e+06  1.487580e+18  1.940000e+00  4.698573e+08\n",
       "50%    5.810145e+06  1.487580e+18  3.970000e+00  5.421750e+08\n",
       "75%    5.856186e+06  1.487580e+18  6.350000e+00  5.680491e+08\n",
       "max    5.909246e+06  2.195085e+18  3.277800e+02  5.799699e+08"
      ]
     },
     "execution_count": 8,
     "metadata": {},
     "output_type": "execute_result"
    }
   ],
   "source": [
    "df_Nov.describe()"
   ]
  },
  {
   "cell_type": "markdown",
   "metadata": {},
   "source": [
    "## Extract more information"
   ]
  },
  {
   "cell_type": "code",
   "execution_count": 9,
   "metadata": {},
   "outputs": [],
   "source": [
    "# Extracting the number of each unique user_id\n",
    "number_customers_oct = df_Oct['user_id'].nunique()\n",
    "number_customers_nov = df_Nov['user_id'].nunique()"
   ]
  },
  {
   "cell_type": "code",
   "execution_count": 10,
   "metadata": {},
   "outputs": [],
   "source": [
    "# Extracting the dataframe of successful purchases only\n",
    "only_purchases_oct = df_Oct[df_Oct.event_type == \"purchase\"]\n",
    "only_purchases_nov = df_Nov[df_Nov.event_type == \"purchase\"]"
   ]
  },
  {
   "cell_type": "markdown",
   "metadata": {},
   "source": [
    "# Questions"
   ]
  },
  {
   "cell_type": "markdown",
   "metadata": {},
   "source": [
    "## [RQ1]\n",
    "A marketing funnel describes your *customer’s journey* with your e-commerce. It may involve different stages, beginning when someone learns about your business, when he/she visits your website for the first time, to the purchasing stage, marketing funnels map routes to conversion and beyond. Suppose your funnel involves just three simple steps: 1) view, 2) cart, 3) purchase. Which is the rate of complete funnels?\n",
    "   - What’s the operation users repeat more on average within a session? Produce a plot that shows the average number of times users perform each operation (view/removefromchart etc etc).\n",
    "   - How many times, on average, a user views a product before adding it to the cart?\n",
    "   - What’s the probability that products added once to the cart are effectively bought?\n",
    "   - What’s the average time an item stays in the cart before being removed?\n",
    "   - How much time passes on average between the first view time and a purchase/addition to cart?"
   ]
  },
  {
   "cell_type": "code",
   "execution_count": 11,
   "metadata": {},
   "outputs": [
    {
     "name": "stdout",
     "output_type": "stream",
     "text": [
      "Only 6.45% of the users purchased in Oct 2019\n",
      "Only 8.56% of the users purchased in Nov 2019\n"
     ]
    }
   ],
   "source": [
    "q1 = (only_purchases_oct.user_id.nunique() / number_customers_oct)\n",
    "qq1 = (only_purchases_nov.user_id.nunique() / number_customers_nov)\n",
    "\n",
    "print(\"Only \" + str(round(q1*100, 2)) + \"% of the users purchased in Oct 2019\")\n",
    "print(\"Only \" + str(round(qq1*100, 2)) + \"% of the users purchased in Nov 2019\")"
   ]
  },
  {
   "cell_type": "markdown",
   "metadata": {},
   "source": [
    "- What’s the operation users repeat more on average within a session? Produce a plot that shows the average number of times users perform each operation (view/removefromchart etc etc)."
   ]
  },
  {
   "cell_type": "code",
   "execution_count": 31,
   "metadata": {},
   "outputs": [
    {
     "data": {
      "image/png": "[encoded data removed]",
      "text/plain": [
       "<Figure size 720x720 with 1 Axes>"
      ]
     },
     "metadata": {
      "needs_background": "light"
     },
     "output_type": "display_data"
    }
   ],
   "source": [
    "#Extracting the average number of times users perform each operation within a session\n",
    "\n",
    "view_per_session_oct = sum(df_Oct[df_Oct[\"event_type\"] == \"view\"].groupby(\"user_session\").event_type.count()) / df_Oct['user_session'].nunique()\n",
    "cart_per_session_oct =sum(df_Oct[df_Oct[\"event_type\"] == \"cart\"].groupby(\"user_session\").event_type.count()) / df_Oct['user_session'].nunique()\n",
    "purchase_per_session_oct = sum(df_Oct[df_Oct[\"event_type\"] == \"purchase\"].groupby(\"user_session\").event_type.count()) / df_Oct['user_session'].nunique()\n",
    "removed_from_cart_per_session_oct = sum(df_Oct[df_Oct[\"event_type\"] == \"remove_from_cart\"].groupby(\"user_session\").event_type.count()) / df_Oct['user_session'].nunique()\n",
    "\n",
    "#Creating the list of average operations\n",
    "average_operations_per_session_oct = [view_per_session_oct, cart_per_session_oct, removed_from_cart_per_session_oct, purchase_per_session_oct]\n",
    "\n",
    "\n",
    "#Setting colors and labels\n",
    "my_colors = [\"b\", \"g\", \"r\", \"y\"]\n",
    "my_labels = [\"View\", \"Cart\", \"Removed From Cart\", \"Purchase\"]\n",
    "\n",
    "\n",
    "#Ploting\n",
    "fig, ax = plt.subplots(figsize = (10, 10))\n",
    "\n",
    "ax.bar(my_labels , average_operations_per_session_oct, color = my_colors)\n",
    "ax.set_title(\"Operations which repeated more in October 2019\", fontsize = 15)\n",
    "ax.set_ylabel(\"Counts\", fontsize = 13)\n",
    "\n",
    "#Initiating a empty list to annotate percentages\n",
    "totals = []\n",
    "\n",
    "#Finding the values and append to total\n",
    "for i in ax.patches:\n",
    "    totals.append(i.get_height())\n",
    "\n",
    "#Creating the total\n",
    "total = sum(totals)\n",
    "\n",
    "#Using for loop for annotating each bar with their respected percentage\n",
    "for i in ax.patches:\n",
    "    #Fixing the location of the text above each bar\n",
    "    ax.text(i.get_x()+.22, i.get_height()+0.02, \\\n",
    "            str(round((i.get_height()/total)*100, 2))+'%', fontsize=15,\n",
    "                color='black')\n",
    "\n",
    "plt.show();"
   ]
  },
  {
   "cell_type": "code",
   "execution_count": 30,
   "metadata": {},
   "outputs": [
    {
     "data": {
      "image/png": "[encoded data removed]",
      "text/plain": [
       "<Figure size 720x720 with 1 Axes>"
      ]
     },
     "metadata": {
      "needs_background": "light"
     },
     "output_type": "display_data"
    }
   ],
   "source": [
    "#Extracting the average number of times users perform each operation within a session\n",
    "\n",
    "view_per_session_nov = sum(df_Nov[df_Nov[\"event_type\"] == \"view\"].groupby(\"user_session\").event_type.count()) / df_Nov['user_session'].nunique()\n",
    "cart_per_session_nov =sum(df_Nov[df_Nov[\"event_type\"] == \"cart\"].groupby(\"user_session\").event_type.count()) / df_Nov['user_session'].nunique()\n",
    "purchase_per_session_nov = sum(df_Nov[df_Nov[\"event_type\"] == \"purchase\"].groupby(\"user_session\").event_type.count()) / df_Nov['user_session'].nunique()\n",
    "removed_from_cart_per_session_nov = sum(df_Nov[df_Nov[\"event_type\"] == \"remove_from_cart\"].groupby(\"user_session\").event_type.count()) / df_Nov['user_session'].nunique()\n",
    "\n",
    "#Creating the list of average operations\n",
    "average_operations_per_session_nov = [view_per_session_nov, cart_per_session_nov, removed_from_cart_per_session_nov, purchase_per_session_nov]\n",
    "\n",
    "\n",
    "#Setting colors and labels\n",
    "my_colors = [\"b\", \"g\", \"r\", \"y\"]\n",
    "my_labels = [\"View\", \"Cart\", \"Removed From Cart\", \"Purchase\"]\n",
    "\n",
    "\n",
    "#Ploting\n",
    "fig, ax = plt.subplots(figsize = (10, 10))\n",
    "\n",
    "ax.bar(my_labels , average_operations_per_session_nov, color = my_colors)\n",
    "ax.set_title(\"Operations which repeated more in November 2019\", fontsize = 15)\n",
    "ax.set_ylabel(\"Counts\", fontsize = 13)\n",
    "\n",
    "#Initiating a empty list to annotate percentages\n",
    "totals = []\n",
    "\n",
    "#Finding the values and append to total\n",
    "for i in ax.patches:\n",
    "    totals.append(i.get_height())\n",
    "\n",
    "#Creating the total\n",
    "total = sum(totals)\n",
    "\n",
    "#Using for loop for annotating each bar with their respected percentage\n",
    "for i in ax.patches:\n",
    "    #Fixing the location of the text above each bar\n",
    "    ax.text(i.get_x()+.22, i.get_height()+0.02, \\\n",
    "            str(round((i.get_height()/total)*100, 2))+'%', fontsize=15,\n",
    "                color='black')\n",
    "\n",
    "plt.show();"
   ]
  },
  {
   "cell_type": "markdown",
   "metadata": {},
   "source": [
    "-------------------"
   ]
  },
  {
   "cell_type": "markdown",
   "metadata": {},
   "source": [
    "* How many times, on average, a user views a product before adding it to the cart?"
   ]
  },
  {
   "cell_type": "code",
   "execution_count": 17,
   "metadata": {},
   "outputs": [
    {
     "name": "stdout",
     "output_type": "stream",
     "text": [
      "In October 2019, each user on average views a product 4.8 times before adding it to the cart\n",
      "\n",
      "In November 2019, each user on average views a product 5.84 times before adding it to the cart\n"
     ]
    }
   ],
   "source": [
    "result = df_Oct[df_Oct.event_type == \"view\"].groupby([\"user_id\", \"event_type\"]).event_type.count().mean()\n",
    "print(\"In October 2019, each user on average views a product \" + str(round(result, 2)) + \" times before adding it to the cart\", end= \"\\n\\n\")\n",
    "\n",
    "result = df_Nov[df_Nov.event_type == \"view\"].groupby([\"user_id\", \"event_type\"]).event_type.count().mean()\n",
    "print(\"In November 2019, each user on average views a product \" + str(round(result, 2)) + \" times before adding it to the cart\")"
   ]
  },
  {
   "cell_type": "markdown",
   "metadata": {},
   "source": [
    "--------------------"
   ]
  },
  {
   "cell_type": "markdown",
   "metadata": {},
   "source": [
    "* What’s the probability that products added once to the cart are effectively bought?"
   ]
  },
  {
   "cell_type": "code",
   "execution_count": 18,
   "metadata": {},
   "outputs": [
    {
     "name": "stdout",
     "output_type": "stream",
     "text": [
      "The probability that products added once to the cart in October 2019 are effectively bought is 19.93%\n",
      "\n",
      "The probability that products added once to the cart in November 2019 are effectively bought is 24.58%\n"
     ]
    }
   ],
   "source": [
    "#Total products that added to the cart\n",
    "total_cart = sum(df_Oct[df_Oct.event_type == \"cart\"].groupby(\"product_id\").event_type.count())\n",
    "\n",
    "#Total product that has been purchased\n",
    "total_purchased = sum(df_Oct[df_Oct.event_type == \"purchase\"].groupby(\"product_id\").event_type.count())\n",
    "\n",
    "print(\"The probability that products added once to the cart in October 2019 are effectively bought is \" + str(round(total_purchased / total_cart*100, 2)) + \"%\", end=\"\\n\\n\")\n",
    "\n",
    "\n",
    "#Total products that added to the cart\n",
    "total_cart = sum(df_Nov[df_Nov.event_type == \"cart\"].groupby(\"product_id\").event_type.count())\n",
    "\n",
    "#Total product that has been purchased\n",
    "total_purchased = sum(df_Nov[df_Nov.event_type == \"purchase\"].groupby(\"product_id\").event_type.count())\n",
    "\n",
    "print(\"The probability that products added once to the cart in November 2019 are effectively bought is \" + str(round(total_purchased / total_cart*100, 2)) + \"%\")"
   ]
  },
  {
   "cell_type": "markdown",
   "metadata": {},
   "source": [
    "---------------"
   ]
  },
  {
   "cell_type": "markdown",
   "metadata": {},
   "source": [
    "* What’s the average time an item stays in the cart before being removed?"
   ]
  },
  {
   "cell_type": "code",
   "execution_count": null,
   "metadata": {},
   "outputs": [],
   "source": []
  },
  {
   "cell_type": "code",
   "execution_count": null,
   "metadata": {},
   "outputs": [],
   "source": []
  },
  {
   "cell_type": "code",
   "execution_count": null,
   "metadata": {},
   "outputs": [],
   "source": []
  },
  {
   "cell_type": "code",
   "execution_count": null,
   "metadata": {},
   "outputs": [],
   "source": []
  },
  {
   "cell_type": "code",
   "execution_count": null,
   "metadata": {},
   "outputs": [],
   "source": []
  },
  {
   "cell_type": "markdown",
   "metadata": {},
   "source": [
    "------------"
   ]
  },
  {
   "cell_type": "markdown",
   "metadata": {},
   "source": [
    "* How much time passes on average between the first view time and a purchase/addition to cart?"
   ]
  },
  {
   "cell_type": "code",
   "execution_count": null,
   "metadata": {},
   "outputs": [],
   "source": []
  },
  {
   "cell_type": "code",
   "execution_count": null,
   "metadata": {},
   "outputs": [],
   "source": []
  },
  {
   "cell_type": "code",
   "execution_count": null,
   "metadata": {},
   "outputs": [],
   "source": []
  },
  {
   "cell_type": "code",
   "execution_count": null,
   "metadata": {},
   "outputs": [],
   "source": []
  },
  {
   "cell_type": "code",
   "execution_count": null,
   "metadata": {},
   "outputs": [],
   "source": []
  },
  {
   "cell_type": "markdown",
   "metadata": {},
   "source": [
    "--------"
   ]
  },
  {
   "cell_type": "markdown",
   "metadata": {},
   "source": [
    "## [RQ2]\n",
    "*What are the categories of the most trending products overall?* For each month visualize this information through a plot showing the number of sold products per category.\n",
    "   - Plot the most visited subcategories.\n",
    "   - What are the 10 most sold products per category?"
   ]
  },
  {
   "cell_type": "code",
   "execution_count": 29,
   "metadata": {},
   "outputs": [
    {
     "name": "stderr",
     "output_type": "stream",
     "text": [
      "C:\\Users\\engme\\Anaconda3\\lib\\site-packages\\ipykernel_launcher.py:30: UserWarning: FixedFormatter should only be used together with FixedLocator\n"
     ]
    },
    {
     "data": {
      "image/png": "[encoded data removed]",
      "text/plain": [
       "<Figure size 1440x720 with 1 Axes>"
      ]
     },
     "metadata": {
      "needs_background": "light"
     },
     "output_type": "display_data"
    }
   ],
   "source": [
    "import re\n",
    "\n",
    "top_category_n = 10\n",
    "\n",
    "top_category = df_Oct.loc[:,'category_code'].value_counts()[:top_category_n].sort_values(ascending=False)\n",
    "\n",
    "\n",
    "#Setting colors\n",
    "my_colors = ['Qualitative']\n",
    "\n",
    "#Creating my custom labels\n",
    "my_labels = []\n",
    "\n",
    "for label in list(top_category.index):\n",
    "    label = re.findall(r\"[\\w']+\", label)\n",
    "    new = []\n",
    "    for i in label:\n",
    "        new.append(i.capitalize())\n",
    "    newly = \" \".join(new)\n",
    "    my_labels.append(newly)\n",
    "\n",
    "\n",
    "#Ploting\n",
    "fig, ax = plt.subplots(figsize = (20, 10))\n",
    "plt.rcParams[\"axes.prop_cycle\"] = plt.cycler(\"color\", plt.cm.winter_r(np.linspace(0,1,10)))\n",
    "ax.bar(my_labels , top_category)\n",
    "#ax.set_color_cycle(['red', 'black', 'yellow'])\n",
    "ax.set_title(\"Most trending categories overall in October 2019\", fontsize = 15)\n",
    "ax.set_ylabel(\"Counts\", fontsize = 13)\n",
    "ax.set_xticklabels(my_labels, rotation=90, fontsize = 11)\n",
    "\n",
    "#Initiating a empty list to annotate percentages\n",
    "totals = []\n",
    "\n",
    "#Finding the values and append to total\n",
    "for i in ax.patches:\n",
    "    totals.append(i.get_height())\n",
    "\n",
    "#Creating the total\n",
    "total = sum(totals)\n",
    "\n",
    "#Using for loop for annotating each bar with their respected percentage\n",
    "for i in ax.patches:\n",
    "    #Fixing the location of the text above each bar\n",
    "    ax.text(i.get_x()+.2, i.get_height()+150, \\\n",
    "            str(round((i.get_height()/total)*100, 2))+'%', fontsize=15,\n",
    "                color='black')\n",
    "\n",
    "plt.show();"
   ]
  },
  {
   "cell_type": "code",
   "execution_count": 32,
   "metadata": {},
   "outputs": [
    {
     "name": "stderr",
     "output_type": "stream",
     "text": [
      "C:\\Users\\engme\\Anaconda3\\lib\\site-packages\\ipykernel_launcher.py:30: UserWarning: FixedFormatter should only be used together with FixedLocator\n"
     ]
    },
    {
     "data": {
      "image/png": "[encoded data removed]",
      "text/plain": [
       "<Figure size 1440x720 with 1 Axes>"
      ]
     },
     "metadata": {
      "needs_background": "light"
     },
     "output_type": "display_data"
    }
   ],
   "source": [
    "import re\n",
    "\n",
    "top_category_n = 10\n",
    "\n",
    "top_category = df_Nov.loc[:,'category_code'].value_counts()[:top_category_n].sort_values(ascending=False)\n",
    "\n",
    "\n",
    "#Setting colors\n",
    "my_colors = ['Qualitative']\n",
    "\n",
    "#Creating my custom labels\n",
    "my_labels = []\n",
    "\n",
    "for label in list(top_category.index):\n",
    "    label = re.findall(r\"[\\w']+\", label)\n",
    "    new = []\n",
    "    for i in label:\n",
    "        new.append(i.capitalize())\n",
    "    newly = \" \".join(new)\n",
    "    my_labels.append(newly)\n",
    "\n",
    "\n",
    "#Ploting\n",
    "fig, ax = plt.subplots(figsize = (20, 10))\n",
    "plt.rcParams[\"axes.prop_cycle\"] = plt.cycler(\"color\", plt.cm.winter_r(np.linspace(0,1,10)))\n",
    "ax.bar(my_labels , top_category)\n",
    "#ax.set_color_cycle(['red', 'black', 'yellow'])\n",
    "ax.set_title(\"Most trending categories overall in November 2019\", fontsize = 15)\n",
    "ax.set_ylabel(\"Counts\", fontsize = 13)\n",
    "ax.set_xticklabels(my_labels, rotation=90, fontsize = 11)\n",
    "\n",
    "#Initiating a empty list to annotate percentages\n",
    "totals = []\n",
    "\n",
    "#Finding the values and append to total\n",
    "for i in ax.patches:\n",
    "    totals.append(i.get_height())\n",
    "\n",
    "#Creating the total\n",
    "total = sum(totals)\n",
    "\n",
    "#Using for loop for annotating each bar with their respected percentage\n",
    "for i in ax.patches:\n",
    "    #Fixing the location of the text above each bar\n",
    "    ax.text(i.get_x()+.2, i.get_height()+150, \\\n",
    "            str(round((i.get_height()/total)*100, 2))+'%', fontsize=15,\n",
    "                color='black')\n",
    "\n",
    "plt.show();"
   ]
  },
  {
   "cell_type": "code",
   "execution_count": null,
   "metadata": {},
   "outputs": [],
   "source": []
  },
  {
   "cell_type": "code",
   "execution_count": null,
   "metadata": {},
   "outputs": [],
   "source": []
  },
  {
   "cell_type": "code",
   "execution_count": null,
   "metadata": {},
   "outputs": [],
   "source": []
  },
  {
   "cell_type": "code",
   "execution_count": null,
   "metadata": {},
   "outputs": [],
   "source": []
  },
  {
   "cell_type": "code",
   "execution_count": null,
   "metadata": {},
   "outputs": [],
   "source": []
  },
  {
   "cell_type": "code",
   "execution_count": null,
   "metadata": {},
   "outputs": [],
   "source": []
  },
  {
   "cell_type": "markdown",
   "metadata": {},
   "source": [
    "## [RQ4]\n",
    "* How much does each brand earn per month? Write a function that given the name of a brand in input returns, for each month, its profit. Is the average price of products of different brands significantly different?\n",
    "\n",
    "\n",
    "   - Using the function you just created, find the top 3 brands that have suffered the biggest losses in earnings between one month and the next, specifing bothe the loss percentage and the 2 months (e.g., brand_1 lost 20% between march and april)."
   ]
  },
  {
   "cell_type": "code",
   "execution_count": null,
   "metadata": {},
   "outputs": [],
   "source": [
    "def monthy_return_oct(brand, top_n = 3):\n",
    "    \n",
    "    oct_return = only_purchases_oct.groupby(['brand']).price.count().loc[[brand]].sum()\n",
    "    nov_return = only_purchases_nov.groupby(['brand']).price.count().loc[[brand]].sum()\n",
    "    \n",
    "    profitAndLoss = pd.DataFrame()\n",
    "    \n",
    "    profitAndLoss['October'] = only_purchases_oct.groupby(['brand']).price.sum()\n",
    "    profitAndLoss['November'] =  only_purchases_nov.groupby(['brand']).price.sum()\n",
    "\n",
    "    profitAndLoss['profit_loss_nov'] = round(((profitAndLoss['November'] - profitAndLoss['October']) / profitAndLoss['October']) * 100, 2)\n",
    "\n",
    "    profitAndLoss = profitAndLoss.sort_values(by = [\"profit_loss_nov\"])\n",
    "\n",
    "    \n",
    "    purchase_ranking_oct = only_purchases_oct.groupby(['brand']).price.sum().sort_values(ascending = False).to_frame().reset_index()\n",
    "    brand_rank_oct = purchase_ranking_oct.loc[purchase_ranking_oct[\"brand\"] == brand].index.values.sum() + 1\n",
    "    \n",
    "    purchase_ranking_nov = only_purchases_nov.groupby(['brand']).price.sum().sort_values(ascending = False).to_frame().reset_index()\n",
    "    brand_rank_nov = purchase_ranking_nov.loc[purchase_ranking_nov[\"brand\"] == brand].index.values.sum() + 1\n",
    "    \n",
    "    \n",
    "    \n",
    "    print(brand.capitalize() + \" made \" + str(oct_return) + \"$ in October 2019\" + \" and its rank in sales is: \" + str(brand_rank_oct))\n",
    "    print(brand.capitalize() + \" made \" + str(nov_return) + \"$ in November 2019\" + \" and its rank in sales is: \" + str(brand_rank_nov), end= \"\\n\\n\")\n",
    "    \n",
    "    top_n_loss = profitAndLoss[:top_n]\n",
    "\n",
    "    for i in top_n_loss.index:\n",
    "\n",
    "        print(i.capitalize() + \" lost \" + str(top_n_loss[\"profit_loss_nov\"][i]) + \"% between October and November\")\n"
   ]
  }
 ],
 "metadata": {
  "kernelspec": {
   "display_name": "Python 3",
   "language": "python",
   "name": "python3"
  },
  "language_info": {
   "codemirror_mode": {
    "name": "ipython",
    "version": 3
   },
   "file_extension": ".py",
   "mimetype": "text/x-python",
   "name": "python",
   "nbconvert_exporter": "python",
   "pygments_lexer": "ipython3",
   "version": "3.7.6"
  }
 },
 "nbformat": 4,
 "nbformat_minor": 4
}
